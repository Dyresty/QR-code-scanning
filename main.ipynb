{
 "cells": [
  {
   "cell_type": "code",
   "execution_count": 6,
   "id": "1260265f",
   "metadata": {},
   "outputs": [
    {
     "name": "stdout",
     "output_type": "stream",
     "text": [
      "current time:- 2022-07-30 10:42:20.397783\n",
      "timestamp:- 1659157940.397783\n",
      "<class 'float'>\n",
      "userid562134_1659157940.397783\n",
      "\n",
      "\n",
      "userid562134\n",
      "1659157940.397783\n"
     ]
    }
   ],
   "source": [
    "#Import Library\n",
    "import qrcode\n",
    "import datetime\n",
    "import cv2\n",
    "# ct stores current time\n",
    "ct = datetime.datetime.now()\n",
    "print(\"current time:-\", ct)\n",
    "  \n",
    "# ts store timestamp of current time\n",
    "ts = ct.timestamp()\n",
    "print(\"timestamp:-\", ts)\n",
    "print(type(ts))\n",
    "userid0=\"userid562134\"\n",
    "\n",
    "str1=userid0+\"_\"+str(ts)\n",
    "\n",
    "img=qrcode.make(str1)\n",
    "img.save('hello.png')\n",
    "\n",
    "img=cv2.imread(\"hello.png\")\n",
    "det=cv2.QRCodeDetector()\n",
    "val, pts, st_code=det.detectAndDecode(img)\n",
    "print(val)\n",
    "print(\"\\n\")\n",
    "\n",
    "x=val.split(\"_\",1)\n",
    "print(x[0])\n",
    "print(x[1])"
   ]
  },
  {
   "cell_type": "code",
   "execution_count": 5,
   "id": "55a413a0",
   "metadata": {},
   "outputs": [
    {
     "name": "stdout",
     "output_type": "stream",
     "text": [
      "\n",
      "LOCAL ENCRYPTION AND DECRYPTION-\n",
      "\n",
      "original string:  userid562134_1659149035.375613\n",
      "encrypted string:  b\"O\\xe4 \\xc3\\x83\\xf6\\xd2m6\\x9c\\\\!\\x13\\xc0\\xd1\\xb3\\x7fjp&\\xf6z\\xad\\x0f\\x10q\\xd1\\x94FXR\\xbfL~A\\x1a'o\\xa9R\\xca`\\x0eIi\\xb2b\\xbe\\xa6\\xca\\x9f\\xb3X2\\xec\\x96\\x92\\xb8\\x19s\\x1c\\xe6+E\"\n",
      "\n",
      "\n",
      "decrypted string:  userid562134_1659149035.375613\n",
      "Authentication:  PrivateKey(7795823292853146182060037183194043173238598433486569754059745279975100304568463486714794997981966088431487797651660672879600762041764687580365516687765843, 65537, 6846578288092963284874644249097449424326624807912881201983868029960584827147295233561496851101075658898758426785581401170171566234412685314164388241309913, 7180616868850624318375339836544033264920335915949734317234531764351259326250166471, 1085675985119227752013452569177862132253640548108226648450462558695661333)\n"
     ]
    }
   ],
   "source": [
    "print(\"\\nLOCAL ENCRYPTION AND DECRYPTION-\\n\")\n",
    "#Let us see the results for local encryption and decryption\n",
    "import rsa\n",
    "publicKey, privateKey = rsa.newkeys(512)\n",
    "message = str1\n",
    "encMessage = rsa.encrypt(message.encode(),privateKey)\n",
    "print(\"original string: \", message)\n",
    "print(\"encrypted string: \", encMessage)\n",
    "print(\"\\n\")\n",
    "#2. The string has been encrypted\n",
    "#sending=str(encMessage)+\"_\"+str(privateKey)\n",
    "decMessage = rsa.decrypt(encMessage, privateKey).decode()\n",
    "print(\"decrypted string: \", decMessage)\n",
    "print(\"Authentication: \", privateKey)"
   ]
  },
  {
   "cell_type": "code",
   "execution_count": null,
   "id": "e4fc23f5",
   "metadata": {},
   "outputs": [],
   "source": []
  }
 ],
 "metadata": {
  "kernelspec": {
   "display_name": "Python 3",
   "language": "python",
   "name": "python3"
  },
  "language_info": {
   "codemirror_mode": {
    "name": "ipython",
    "version": 3
   },
   "file_extension": ".py",
   "mimetype": "text/x-python",
   "name": "python",
   "nbconvert_exporter": "python",
   "pygments_lexer": "ipython3",
   "version": "3.8.8"
  }
 },
 "nbformat": 4,
 "nbformat_minor": 5
}
